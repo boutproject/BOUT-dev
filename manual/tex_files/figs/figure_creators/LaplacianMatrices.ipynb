{
 "cells": [
  {
   "cell_type": "markdown",
   "metadata": {},
   "source": [
    "# Making 2-D Laplacian inversion matrices in to order to visualize it"
   ]
  },
  {
   "cell_type": "code",
   "execution_count": 1,
   "metadata": {
    "collapsed": true
   },
   "outputs": [],
   "source": [
    "import itertools\n",
    "from sympy import init_printing\n",
    "from sympy import symbols\n",
    "from sympy import Matrix, diag\n",
    "from IPython.display import display\n",
    "\n",
    "init_printing()"
   ]
  },
  {
   "cell_type": "markdown",
   "metadata": {},
   "source": [
    "Creating dimensions"
   ]
  },
  {
   "cell_type": "code",
   "execution_count": 2,
   "metadata": {
    "collapsed": true
   },
   "outputs": [],
   "source": [
    "# Note, these can be max 9 due to the current index convention\n",
    "nx = 3 # Not including ghost points\n",
    "nz = 3\n",
    "\n",
    "startXIndex = 10 # The x indices are the slowest growing indices\n",
    "startZIndex = 1  # The z indices are the fastest growing indices"
   ]
  },
  {
   "cell_type": "markdown",
   "metadata": {},
   "source": [
    "## Creating the points in the mesh"
   ]
  },
  {
   "cell_type": "code",
   "execution_count": 3,
   "metadata": {
    "collapsed": false
   },
   "outputs": [
    {
     "data": {
      "image/png": "[encoded data removed]",
      "text/latex": [
       "$$\\left[\\begin{matrix}f_{03} & f_{13} & f_{23} & f_{33} & f_{43}\\\\f_{02} & f_{12} & f_{22} & f_{32} & f_{42}\\\\f_{01} & f_{11} & f_{21} & f_{31} & f_{41}\\end{matrix}\\right]$$"
      ],
      "text/plain": [
       "⎡f₀₃  f₁₃  f₂₃  f₃₃  f₄₃⎤\n",
       "⎢                       ⎥\n",
       "⎢f₀₂  f₁₂  f₂₂  f₃₂  f₄₂⎥\n",
       "⎢                       ⎥\n",
       "⎣f₀₁  f₁₁  f₂₁  f₃₁  f₄₁⎦"
      ]
     },
     "metadata": {},
     "output_type": "display_data"
    }
   ],
   "source": [
    "# The function at the current point\n",
    "f = []\n",
    "for z in range(nz):\n",
    "    f.append([])\n",
    "    xStart = startZIndex\n",
    "    xEnd   = startXIndex*(nx+1)  # +1 due to ghost point\n",
    "    # +startXIndex in the range as the range does not include endpoint\n",
    "    for xInd in range(xStart, xEnd+startXIndex, 10):\n",
    "        ind = str(xInd+z)\n",
    "        if (xInd+z) < startXIndex:\n",
    "            ind = '0'+str(xInd+z)\n",
    "        f[z].append(symbols('f_' + ind))\n",
    "\n",
    "mesh = Matrix(f[::-1])\n",
    "display(mesh)"
   ]
  },
  {
   "cell_type": "markdown",
   "metadata": {},
   "source": [
    "Do the vectors"
   ]
  },
  {
   "cell_type": "code",
   "execution_count": 4,
   "metadata": {
    "collapsed": false
   },
   "outputs": [
    {
     "data": {
      "image/png": "[encoded data removed]",
      "text/latex": [
       "$$\\left[\\begin{matrix}x_{0 1}\\\\x_{0 2}\\\\x_{0 3}\\\\x_{1 1}\\\\x_{1 2}\\\\x_{1 3}\\\\x_{2 1}\\\\x_{2 2}\\\\x_{2 3}\\\\x_{3 1}\\\\x_{3 2}\\\\x_{3 3}\\\\x_{4 1}\\\\x_{4 2}\\\\x_{4 3}\\end{matrix}\\right]$$"
      ],
      "text/plain": [
       "⎡x₀ ₁⎤\n",
       "⎢    ⎥\n",
       "⎢x₀ ₂⎥\n",
       "⎢    ⎥\n",
       "⎢x₀ ₃⎥\n",
       "⎢    ⎥\n",
       "⎢x₁ ₁⎥\n",
       "⎢    ⎥\n",
       "⎢x₁ ₂⎥\n",
       "⎢    ⎥\n",
       "⎢x₁ ₃⎥\n",
       "⎢    ⎥\n",
       "⎢x₂ ₁⎥\n",
       "⎢    ⎥\n",
       "⎢x₂ ₂⎥\n",
       "⎢    ⎥\n",
       "⎢x₂ ₃⎥\n",
       "⎢    ⎥\n",
       "⎢x₃ ₁⎥\n",
       "⎢    ⎥\n",
       "⎢x₃ ₂⎥\n",
       "⎢    ⎥\n",
       "⎢x₃ ₃⎥\n",
       "⎢    ⎥\n",
       "⎢x₄ ₁⎥\n",
       "⎢    ⎥\n",
       "⎢x₄ ₂⎥\n",
       "⎢    ⎥\n",
       "⎣x₄ ₃⎦"
      ]
     },
     "metadata": {},
     "output_type": "display_data"
    },
    {
     "data": {
      "image/png": "[encoded data removed]",
      "text/latex": [
       "$$\\left[\\begin{matrix}b_{0 1}\\\\b_{0 2}\\\\b_{0 3}\\\\b_{1 1}\\\\b_{1 2}\\\\b_{1 3}\\\\b_{2 1}\\\\b_{2 2}\\\\b_{2 3}\\\\b_{3 1}\\\\b_{3 2}\\\\b_{3 3}\\\\b_{4 1}\\\\b_{4 2}\\\\b_{4 3}\\end{matrix}\\right]$$"
      ],
      "text/plain": [
       "⎡b₀ ₁⎤\n",
       "⎢    ⎥\n",
       "⎢b₀ ₂⎥\n",
       "⎢    ⎥\n",
       "⎢b₀ ₃⎥\n",
       "⎢    ⎥\n",
       "⎢b₁ ₁⎥\n",
       "⎢    ⎥\n",
       "⎢b₁ ₂⎥\n",
       "⎢    ⎥\n",
       "⎢b₁ ₃⎥\n",
       "⎢    ⎥\n",
       "⎢b₂ ₁⎥\n",
       "⎢    ⎥\n",
       "⎢b₂ ₂⎥\n",
       "⎢    ⎥\n",
       "⎢b₂ ₃⎥\n",
       "⎢    ⎥\n",
       "⎢b₃ ₁⎥\n",
       "⎢    ⎥\n",
       "⎢b₃ ₂⎥\n",
       "⎢    ⎥\n",
       "⎢b₃ ₃⎥\n",
       "⎢    ⎥\n",
       "⎢b₄ ₁⎥\n",
       "⎢    ⎥\n",
       "⎢b₄ ₂⎥\n",
       "⎢    ⎥\n",
       "⎣b₄ ₃⎦"
      ]
     },
     "metadata": {},
     "output_type": "display_data"
    }
   ],
   "source": [
    "xVec=[]\n",
    "bVec=[]\n",
    "# Do the inner loop, so start ranges at 1\n",
    "# (nx+1) to include outer ghost point, +1 in the range as the range does not include endpoint\n",
    "for x in range(1, (nx+1)+1):\n",
    "    for z in range(1,nz+1):\n",
    "        xVec.append(symbols('x_'+str(x)+'_'+str(z)))\n",
    "        bVec.append(symbols('b_'+str(x)+'_'+str(z)))\n",
    "\n",
    "# Do the inner ghost points\n",
    "# Must count backwards since we are inserting in the front\n",
    "for ind in range(nz,0,-1):\n",
    "    xVec.insert(0, symbols('x_0_'+str(ind)))\n",
    "    bVec.insert(0, symbols('b_0_'+str(ind)))\n",
    "    \n",
    "display(Matrix(xVec))\n",
    "display(Matrix(bVec))"
   ]
  },
  {
   "cell_type": "markdown",
   "metadata": {},
   "source": [
    "## Make the global index matrix"
   ]
  },
  {
   "cell_type": "code",
   "execution_count": 5,
   "metadata": {
    "collapsed": false
   },
   "outputs": [
    {
     "data": {
      "image/png": "[encoded data removed]",
      "text/latex": [
       "$$\\left[\\begin{array}{ccccccccccccccc}0 & 1 & 2 & 3 & 4 & 5 & 6 & 7 & 8 & 9 & 10 & 11 & 12 & 13 & 14\\\\15 & 16 & 17 & 18 & 19 & 20 & 21 & 22 & 23 & 24 & 25 & 26 & 27 & 28 & 29\\\\30 & 31 & 32 & 33 & 34 & 35 & 36 & 37 & 38 & 39 & 40 & 41 & 42 & 43 & 44\\\\45 & 46 & 47 & 48 & 49 & 50 & 51 & 52 & 53 & 54 & 55 & 56 & 57 & 58 & 59\\\\60 & 61 & 62 & 63 & 64 & 65 & 66 & 67 & 68 & 69 & 70 & 71 & 72 & 73 & 74\\\\75 & 76 & 77 & 78 & 79 & 80 & 81 & 82 & 83 & 84 & 85 & 86 & 87 & 88 & 89\\\\90 & 91 & 92 & 93 & 94 & 95 & 96 & 97 & 98 & 99 & 100 & 101 & 102 & 103 & 104\\\\105 & 106 & 107 & 108 & 109 & 110 & 111 & 112 & 113 & 114 & 115 & 116 & 117 & 118 & 119\\\\120 & 121 & 122 & 123 & 124 & 125 & 126 & 127 & 128 & 129 & 130 & 131 & 132 & 133 & 134\\\\135 & 136 & 137 & 138 & 139 & 140 & 141 & 142 & 143 & 144 & 145 & 146 & 147 & 148 & 149\\\\150 & 151 & 152 & 153 & 154 & 155 & 156 & 157 & 158 & 159 & 160 & 161 & 162 & 163 & 164\\\\165 & 166 & 167 & 168 & 169 & 170 & 171 & 172 & 173 & 174 & 175 & 176 & 177 & 178 & 179\\\\180 & 181 & 182 & 183 & 184 & 185 & 186 & 187 & 188 & 189 & 190 & 191 & 192 & 193 & 194\\\\195 & 196 & 197 & 198 & 199 & 200 & 201 & 202 & 203 & 204 & 205 & 206 & 207 & 208 & 209\\\\210 & 211 & 212 & 213 & 214 & 215 & 216 & 217 & 218 & 219 & 220 & 221 & 222 & 223 & 224\\end{array}\\right]$$"
      ],
      "text/plain": [
       "⎡ 0    1    2    3    4    5    6    7    8    9   10   11   12   13   14 ⎤\n",
       "⎢                                                                         ⎥\n",
       "⎢15   16   17   18   19   20   21   22   23   24   25   26   27   28   29 ⎥\n",
       "⎢                                                                         ⎥\n",
       "⎢30   31   32   33   34   35   36   37   38   39   40   41   42   43   44 ⎥\n",
       "⎢                                                                         ⎥\n",
       "⎢45   46   47   48   49   50   51   52   53   54   55   56   57   58   59 ⎥\n",
       "⎢                                                                         ⎥\n",
       "⎢60   61   62   63   64   65   66   67   68   69   70   71   72   73   74 ⎥\n",
       "⎢                                                                         ⎥\n",
       "⎢75   76   77   78   79   80   81   82   83   84   85   86   87   88   89 ⎥\n",
       "⎢                                                                         ⎥\n",
       "⎢90   91   92   93   94   95   96   97   98   99   100  101  102  103  104⎥\n",
       "⎢                                                                         ⎥\n",
       "⎢105  106  107  108  109  110  111  112  113  114  115  116  117  118  119⎥\n",
       "⎢                                                                         ⎥\n",
       "⎢120  121  122  123  124  125  126  127  128  129  130  131  132  133  134⎥\n",
       "⎢                                                                         ⎥\n",
       "⎢135  136  137  138  139  140  141  142  143  144  145  146  147  148  149⎥\n",
       "⎢                                                                         ⎥\n",
       "⎢150  151  152  153  154  155  156  157  158  159  160  161  162  163  164⎥\n",
       "⎢                                                                         ⎥\n",
       "⎢165  166  167  168  169  170  171  172  173  174  175  176  177  178  179⎥\n",
       "⎢                                                                         ⎥\n",
       "⎢180  181  182  183  184  185  186  187  188  189  190  191  192  193  194⎥\n",
       "⎢                                                                         ⎥\n",
       "⎢195  196  197  198  199  200  201  202  203  204  205  206  207  208  209⎥\n",
       "⎢                                                                         ⎥\n",
       "⎣210  211  212  213  214  215  216  217  218  219  220  221  222  223  224⎦"
      ]
     },
     "metadata": {},
     "output_type": "display_data"
    }
   ],
   "source": [
    "globInd = []\n",
    "for rows in range(len(xVec)):\n",
    "    cols = []\n",
    "    for col in range(rows*len(xVec), (rows+1)*len(xVec)):\n",
    "        cols.append(col)\n",
    "    globInd.append(cols)\n",
    "\n",
    "display(Matrix(globInd))"
   ]
  },
  {
   "cell_type": "markdown",
   "metadata": {},
   "source": [
    "## Make the inversion matrix"
   ]
  },
  {
   "cell_type": "markdown",
   "metadata": {},
   "source": [
    "### Make the diagonal for the inner points"
   ]
  },
  {
   "cell_type": "code",
   "execution_count": 6,
   "metadata": {
    "collapsed": true
   },
   "outputs": [],
   "source": [
    "c = []\n",
    "for x in range(nx):\n",
    "    indexStart = (startXIndex+1)+(startXIndex*x)     # Multiply by 10 due to index system\n",
    "    indexEnd   = (startXIndex+nz+1)+(startXIndex*x)  # Multiply by 10 due to index system\n",
    "    for ind in range(indexStart, indexEnd):\n",
    "        c.append(symbols('c_'+str(ind)))"
   ]
  },
  {
   "cell_type": "markdown",
   "metadata": {},
   "source": [
    "### Make the ghost points"
   ]
  },
  {
   "cell_type": "code",
   "execution_count": 7,
   "metadata": {
    "collapsed": true
   },
   "outputs": [],
   "source": [
    "# The inner ghost\n",
    "innerGhostStart = startZIndex\n",
    "innerGhostEnd   = nz\n",
    "ig = []\n",
    "# +1 in the range as last point is not included\n",
    "for z in range(innerGhostStart, innerGhostEnd+1):\n",
    "    ig.append(symbols('ig_0_'+str(z)))"
   ]
  },
  {
   "cell_type": "code",
   "execution_count": 8,
   "metadata": {
    "collapsed": false
   },
   "outputs": [],
   "source": [
    "# The outer ghost\n",
    "# nx+1 as we want to go past the last inner x grid point\n",
    "outerGhostStart = startXIndex*(nx+1) + startZIndex\n",
    "outerGhostEnd   = startXIndex*(nx+1) + nz\n",
    "og = []\n",
    "# +1 in the range as last point is not included\n",
    "for z in range(outerGhostStart, outerGhostEnd+1):\n",
    "    og.append(symbols('og_'+str(z)))"
   ]
  },
  {
   "cell_type": "markdown",
   "metadata": {},
   "source": [
    "### Create the diagonal of the matrix"
   ]
  },
  {
   "cell_type": "code",
   "execution_count": 9,
   "metadata": {
    "collapsed": false
   },
   "outputs": [],
   "source": [
    "InvM = diag(*ig, *c, *og)"
   ]
  },
  {
   "cell_type": "markdown",
   "metadata": {},
   "source": [
    "### Create the non-diagonal values"
   ]
  },
  {
   "cell_type": "markdown",
   "metadata": {},
   "source": [
    "#### Set z+1 values"
   ]
  },
  {
   "cell_type": "code",
   "execution_count": 10,
   "metadata": {
    "collapsed": false
   },
   "outputs": [],
   "source": [
    "for x in range(nx):\n",
    "    # The indices referring to the matrix index\n",
    "    # The last -1 is there as the matrix indices count from 0\n",
    "    startRow = (nz+1)+(x*nz)-1  # Starting at row+1 after inner ghost point sub-matrix\n",
    "    endRow   = (nz+1)+(x*nz)+(nz-1)-1 # Ending row-1 before the last z-index (last z will be wrapped around)\n",
    "    # +1 in range as last point is not included\n",
    "    rows     = range(startRow,   endRow+1)\n",
    "    cols     = range(startRow+1, endRow+1) # Column is shifted +1 from the diagonal\n",
    "    \n",
    "    # The indices referring to the spatial point in the grid\n",
    "    # The last \"+1\" is fue to the fact that the column is shifted +1 from the diagonal\n",
    "    startInd = (startXIndex+startZIndex) + (startXIndex*x) + 1\n",
    "    endInd   = (startXIndex+startZIndex) + (nz-1) + (startXIndex*x) + 1 # Wrap around last point\n",
    "    # +1 in range as last point is not included\n",
    "    inds     = range(startInd, endInd+1)\n",
    "    \n",
    "    for rInd, cInd, ind in zip(rows, cols, inds):\n",
    "        InvM[rInd, cInd] = symbols('zp_'+str(ind))"
   ]
  },
  {
   "cell_type": "code",
   "execution_count": 11,
   "metadata": {
    "collapsed": false
   },
   "outputs": [],
   "source": [
    "# The wrap around\n",
    "# The index referring to the spatial point in the grid\n",
    "startInd = startXIndex+startZIndex\n",
    "# The indices referring to the matrix index\n",
    "# Last -1 as the matrix indices are counted from 0 \n",
    "startRow = (nz+1) + (nz-1) - 1 # nz+1 below from the ghost sub matrix, nz-1 below after that\n",
    "startCol = (nz+1)-1            # nz+1 left of the ghost sub matrix\n",
    "for wrap in range(nx):\n",
    "    row = startRow+wrap*nz\n",
    "    col = startCol+wrap*nz\n",
    "    InvM[row, col] = symbols('zp_'+str(startInd+startXIndex*wrap))"
   ]
  },
  {
   "cell_type": "markdown",
   "metadata": {},
   "source": [
    "#### Set z-1 values"
   ]
  },
  {
   "cell_type": "code",
   "execution_count": 12,
   "metadata": {
    "collapsed": false
   },
   "outputs": [],
   "source": [
    "for x in range(nx):\n",
    "    # The indices referring to the matrix index\n",
    "    # The last -1 is there as the matrix indices count from 0\n",
    "    startRow = (nz+1)+(x*nz)-1  # Starting at row+1 after inner ghost point sub-matrix\n",
    "    endRow   = (nz+1)+(x*nz)+(nz-1)-1 # Ending row-1 before the last z-index (last z will be wrapped around)\n",
    "    # +1 in range as last point is not included\n",
    "    rows     = range(startRow+1, endRow+1) # Row is shifted +1 from the diagonal\n",
    "    cols     = range(startRow,   endRow+1)\n",
    "    \n",
    "    # The indices referring to the spatial point in the grid\n",
    "    startInd = (startXIndex+startZIndex) + (startXIndex*x)\n",
    "    endInd   = (startXIndex+startZIndex) + (nz-1) + (startXIndex*x) # Wrap around last point\n",
    "    # +1 in range as last point is not included\n",
    "    inds     = range(startInd, endInd+1)\n",
    "    \n",
    "    for rInd, cInd, ind in zip(rows, cols, inds):\n",
    "        InvM[rInd, cInd] = symbols('zm_'+str(ind))"
   ]
  },
  {
   "cell_type": "code",
   "execution_count": 13,
   "metadata": {
    "collapsed": false
   },
   "outputs": [],
   "source": [
    "# The wrap around\n",
    "# The index referring to the spatial point in the grid\n",
    "startInd = startXIndex+startZIndex+(nz-1) # +(nz-1) as this will be the last z point for the current x\n",
    "# The indices referring to the matrix index\n",
    "# Last -1 as the matrix indices are counted from 0 \n",
    "startRow = (nz+1)-1            # nz+1 below the ghost sub matrix\n",
    "startCol = (nz+1) + (nz-1) - 1 # nz+1 left from the ghost sub matrix, nz-1 left after that\n",
    "for wrap in range(nx):\n",
    "    row = startRow+wrap*nz\n",
    "    col = startCol+wrap*nz\n",
    "    InvM[row, col] = symbols('zm_'+str(startInd+startXIndex*wrap))"
   ]
  },
  {
   "cell_type": "markdown",
   "metadata": {},
   "source": [
    "#### Set x+1 values"
   ]
  },
  {
   "cell_type": "code",
   "execution_count": 14,
   "metadata": {
    "collapsed": true
   },
   "outputs": [],
   "source": [
    "# Indices referring to the spatial points in the grid\n",
    "startInd = startXIndex*2 + startZIndex # *2 as we start at the second inner x-index\n",
    "endInd   = startInd + (startZIndex*nz) # *nz as this is the last z-index in the current x-index\n",
    "\n",
    "for x in range(nx):\n",
    "    # The indices referring to the matrix index\n",
    "    # The last -1 as the matrix indices counts from 0\n",
    "    startRow = (nz+1)+(x*nz)-1      # Starting at row+1 after inner ghost point sub-matrix\n",
    "    endRow   = (nz+1)+(x*nz)+(nz)-1 # Ending at the row referring to the last z-index\n",
    "    # Not +1 in range as we do not want to include last point\n",
    "    rows     = range(startRow,    endRow)\n",
    "    cols     = range(startRow+nz, endRow+nz)           # Start at first index after last z-index\n",
    "    \n",
    "    # Indices referring to the spatial points in the grid\n",
    "    inds     = range(startInd+startXIndex*x, endInd+startXIndex*x)\n",
    "    \n",
    "    for rInd, cInd, ind in zip(rows, cols, inds):\n",
    "        InvM[rInd, cInd] = symbols('xp_'+str(ind))"
   ]
  },
  {
   "cell_type": "code",
   "execution_count": 15,
   "metadata": {
    "collapsed": false
   },
   "outputs": [],
   "source": [
    "# x+1 for inner ghost point\n",
    "# Indices referring to the spatial points in the grid\n",
    "startInd = startXIndex + startZIndex   # First inner point for first z\n",
    "endInd   = startInd + (startZIndex*nz) # First inner point for last z\n",
    "\n",
    "# The indices referring to the matrix index\n",
    "# The last -1 as the matrix indices counts from 0\n",
    "startRow = startZIndex-1    # Starting at first row\n",
    "endRow   = startZIndex+nz-1 # Ending at the row referring to the last z-index\n",
    "# Not +1 in range as we do not want to include last point\n",
    "rows     = range(startRow,    endRow)\n",
    "cols     = range(startRow+nz, endRow+nz)           # Start at first index after last z-index\n",
    "    \n",
    "# Indices referring to the spatial points in the grid\n",
    "inds     = range(startInd, endInd)\n",
    "    \n",
    "for rInd, cInd, ind in zip(rows, cols, inds):\n",
    "    InvM[rInd, cInd] = symbols('igxp_'+str(ind))"
   ]
  },
  {
   "cell_type": "markdown",
   "metadata": {},
   "source": [
    "#### Set x-1 values"
   ]
  },
  {
   "cell_type": "code",
   "execution_count": 16,
   "metadata": {
    "collapsed": false
   },
   "outputs": [],
   "source": [
    "# Indices referring to the spatial points in the grid\n",
    "startInd = startZIndex\n",
    "endInd   = startInd + nz\n",
    "\n",
    "for x in range(nx):\n",
    "    # The indices referring to the matrix index\n",
    "    # Note that x starts counting from zero, so we must add 1 to x in the rows\n",
    "    startRow = ((x+1)*nz)      # Starting at row+1 after inner ghost point sub-matrix\n",
    "    endRow   = ((x+1)*nz)+(nz) # Ending at the row referring to the last z-index\n",
    "    # Not +1 in range as we do not want to include last point\n",
    "    rows = range(startRow,    endRow)\n",
    "    cols = range(startRow-nz, endRow-nz)           # Start at first index after last z-index\n",
    "    \n",
    "    # Indices referring to the spatial points in the grid\n",
    "    inds = range(startInd+startXIndex*x, endInd+startXIndex*x)\n",
    "    \n",
    "    for rInd, cInd, ind in zip(rows, cols, inds):\n",
    "        if (ind) < startXIndex:\n",
    "            ind = '0'+str(ind)\n",
    "\n",
    "        InvM[rInd, cInd] = symbols('xm_'+str(ind))"
   ]
  },
  {
   "cell_type": "code",
   "execution_count": 17,
   "metadata": {
    "collapsed": false
   },
   "outputs": [],
   "source": [
    "# x-1 for inner ghost point\n",
    "# Indices referring to the spatial points in the grid\n",
    "startInd = startXIndex*nx + startZIndex   # Last inner point for first z\n",
    "endInd   = startInd + (startZIndex*nz)    # Last inner point for last z\n",
    "\n",
    "# The indices referring to the matrix index\n",
    "# The last -1 as the matrix indices counts from 0\n",
    "startRow = len(xVec)-nz-1    # Starting at last inner point row\n",
    "endRow   = len(xVec)-1       # Ending at the last row\n",
    "# +1 in range as last point is not included\n",
    "rows     = range(startRow+1,    endRow+1)\n",
    "cols     = range(startRow-nz+1, endRow-nz+1) # Start at first index after last z-index\n",
    "    \n",
    "# Indices referring to the spatial points in the grid\n",
    "inds     = range(startInd, endInd)\n",
    "    \n",
    "for rInd, cInd, ind in zip(rows, cols, inds):\n",
    "    InvM[rInd, cInd] = symbols('ogxm_'+str(ind))"
   ]
  },
  {
   "cell_type": "markdown",
   "metadata": {},
   "source": [
    "### Display the matrix"
   ]
  },
  {
   "cell_type": "code",
   "execution_count": 18,
   "metadata": {
    "collapsed": false
   },
   "outputs": [
    {
     "data": {
      "image/png": "[encoded data removed]",
      "text/latex": [
       "$$\\left[\\begin{array}{ccccccccccccccc}ig_{0 1} & 0 & 0 & igxp_{11} & 0 & 0 & 0 & 0 & 0 & 0 & 0 & 0 & 0 & 0 & 0\\\\0 & ig_{0 2} & 0 & 0 & igxp_{12} & 0 & 0 & 0 & 0 & 0 & 0 & 0 & 0 & 0 & 0\\\\0 & 0 & ig_{0 3} & 0 & 0 & igxp_{13} & 0 & 0 & 0 & 0 & 0 & 0 & 0 & 0 & 0\\\\xm_{01} & 0 & 0 & c_{11} & zp_{12} & zm_{13} & xp_{21} & 0 & 0 & 0 & 0 & 0 & 0 & 0 & 0\\\\0 & xm_{02} & 0 & zm_{11} & c_{12} & zp_{13} & 0 & xp_{22} & 0 & 0 & 0 & 0 & 0 & 0 & 0\\\\0 & 0 & xm_{03} & zp_{11} & zm_{12} & c_{13} & 0 & 0 & xp_{23} & 0 & 0 & 0 & 0 & 0 & 0\\\\0 & 0 & 0 & xm_{11} & 0 & 0 & c_{21} & zp_{22} & zm_{23} & xp_{31} & 0 & 0 & 0 & 0 & 0\\\\0 & 0 & 0 & 0 & xm_{12} & 0 & zm_{21} & c_{22} & zp_{23} & 0 & xp_{32} & 0 & 0 & 0 & 0\\\\0 & 0 & 0 & 0 & 0 & xm_{13} & zp_{21} & zm_{22} & c_{23} & 0 & 0 & xp_{33} & 0 & 0 & 0\\\\0 & 0 & 0 & 0 & 0 & 0 & xm_{21} & 0 & 0 & c_{31} & zp_{32} & zm_{33} & xp_{41} & 0 & 0\\\\0 & 0 & 0 & 0 & 0 & 0 & 0 & xm_{22} & 0 & zm_{31} & c_{32} & zp_{33} & 0 & xp_{42} & 0\\\\0 & 0 & 0 & 0 & 0 & 0 & 0 & 0 & xm_{23} & zp_{31} & zm_{32} & c_{33} & 0 & 0 & xp_{43}\\\\0 & 0 & 0 & 0 & 0 & 0 & 0 & 0 & 0 & ogxm_{31} & 0 & 0 & og_{41} & 0 & 0\\\\0 & 0 & 0 & 0 & 0 & 0 & 0 & 0 & 0 & 0 & ogxm_{32} & 0 & 0 & og_{42} & 0\\\\0 & 0 & 0 & 0 & 0 & 0 & 0 & 0 & 0 & 0 & 0 & ogxm_{33} & 0 & 0 & og_{43}\\end{array}\\right]$$"
      ],
      "text/plain": [
       "⎡ig₀ ₁    0      0    igxp₁₁    0       0      0     0     0      0       0   \n",
       "⎢                                                                             \n",
       "⎢  0    ig₀ ₂    0      0     igxp₁₂    0      0     0     0      0       0   \n",
       "⎢                                                                             \n",
       "⎢  0      0    ig₀ ₃    0       0     igxp₁₃   0     0     0      0       0   \n",
       "⎢                                                                             \n",
       "⎢xm₀₁     0      0     c₁₁     zp₁₂    zm₁₃   xp₂₁   0     0      0       0   \n",
       "⎢                                                                             \n",
       "⎢  0    xm₀₂     0     zm₁₁    c₁₂     zp₁₃    0    xp₂₂   0      0       0   \n",
       "⎢                                                                             \n",
       "⎢  0      0    xm₀₃    zp₁₁    zm₁₂    c₁₃     0     0    xp₂₃    0       0   \n",
       "⎢                                                                             \n",
       "⎢  0      0      0     xm₁₁     0       0     c₂₁   zp₂₂  zm₂₃   xp₃₁     0   \n",
       "⎢                                                                             \n",
       "⎢  0      0      0      0      xm₁₂     0     zm₂₁  c₂₂   zp₂₃    0      xp₃₂ \n",
       "⎢                                                                             \n",
       "⎢  0      0      0      0       0      xm₁₃   zp₂₁  zm₂₂  c₂₃     0       0   \n",
       "⎢                                                                             \n",
       "⎢  0      0      0      0       0       0     xm₂₁   0     0     c₃₁     zp₃₂ \n",
       "⎢                                                                             \n",
       "⎢  0      0      0      0       0       0      0    xm₂₂   0     zm₃₁    c₃₂  \n",
       "⎢                                                                             \n",
       "⎢  0      0      0      0       0       0      0     0    xm₂₃   zp₃₁    zm₃₂ \n",
       "⎢                                                                             \n",
       "⎢  0      0      0      0       0       0      0     0     0    ogxm₃₁    0   \n",
       "⎢                                                                             \n",
       "⎢  0      0      0      0       0       0      0     0     0      0     ogxm₃₂\n",
       "⎢                                                                             \n",
       "⎣  0      0      0      0       0       0      0     0     0      0       0   \n",
       "\n",
       "    0      0     0     0  ⎤\n",
       "                          ⎥\n",
       "    0      0     0     0  ⎥\n",
       "                          ⎥\n",
       "    0      0     0     0  ⎥\n",
       "                          ⎥\n",
       "    0      0     0     0  ⎥\n",
       "                          ⎥\n",
       "    0      0     0     0  ⎥\n",
       "                          ⎥\n",
       "    0      0     0     0  ⎥\n",
       "                          ⎥\n",
       "    0      0     0     0  ⎥\n",
       "                          ⎥\n",
       "    0      0     0     0  ⎥\n",
       "                          ⎥\n",
       "   xp₃₃    0     0     0  ⎥\n",
       "                          ⎥\n",
       "   zm₃₃   xp₄₁   0     0  ⎥\n",
       "                          ⎥\n",
       "   zp₃₃    0    xp₄₂   0  ⎥\n",
       "                          ⎥\n",
       "   c₃₃     0     0    xp₄₃⎥\n",
       "                          ⎥\n",
       "    0     og₄₁   0     0  ⎥\n",
       "                          ⎥\n",
       "    0      0    og₄₂   0  ⎥\n",
       "                          ⎥\n",
       "  ogxm₃₃   0     0    og₄₃⎦"
      ]
     },
     "metadata": {},
     "output_type": "display_data"
    }
   ],
   "source": [
    "display(InvM)"
   ]
  }
 ],
 "metadata": {
  "kernelspec": {
   "display_name": "Python 3",
   "language": "python",
   "name": "python3"
  },
  "language_info": {
   "codemirror_mode": {
    "name": "ipython",
    "version": 3
   },
   "file_extension": ".py",
   "mimetype": "text/x-python",
   "name": "python",
   "nbconvert_exporter": "python",
   "pygments_lexer": "ipython3",
   "version": "3.5.0"
  }
 },
 "nbformat": 4,
 "nbformat_minor": 0
}
